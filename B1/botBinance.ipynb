{
  "cells": [
    {
      "cell_type": "markdown",
      "metadata": {
        "id": "view-in-github",
        "colab_type": "text"
      },
      "source": [
        "<a href=\"https://colab.research.google.com/github/uliinterco/botBinance/blob/main/B1/botBinance.ipynb\" target=\"_parent\"><img src=\"https://colab.research.google.com/assets/colab-badge.svg\" alt=\"Open In Colab\"/></a>"
      ]
    },
    {
      "cell_type": "code",
      "execution_count": null,
      "metadata": {
        "id": "sVzyBAkHN8g1",
        "outputId": "7ad80c95-404a-4205-e542-013cb5823211"
      },
      "outputs": [
        {
          "name": "stdout",
          "output_type": "stream",
          "text": [
            "Requirement already satisfied: python-binance in /Users/cesargarciavelazquez/opt/anaconda3/lib/python3.9/site-packages (1.0.16)\n",
            "Requirement already satisfied: six in /Users/cesargarciavelazquez/opt/anaconda3/lib/python3.9/site-packages (from python-binance) (1.16.0)\n",
            "Requirement already satisfied: aiohttp in /Users/cesargarciavelazquez/opt/anaconda3/lib/python3.9/site-packages (from python-binance) (3.8.1)\n",
            "Requirement already satisfied: websockets in /Users/cesargarciavelazquez/opt/anaconda3/lib/python3.9/site-packages (from python-binance) (10.3)\n",
            "Requirement already satisfied: requests in /Users/cesargarciavelazquez/opt/anaconda3/lib/python3.9/site-packages (from python-binance) (2.27.1)\n",
            "Requirement already satisfied: dateparser in /Users/cesargarciavelazquez/opt/anaconda3/lib/python3.9/site-packages (from python-binance) (1.1.2)\n",
            "Requirement already satisfied: ujson in /Users/cesargarciavelazquez/opt/anaconda3/lib/python3.9/site-packages (from python-binance) (5.1.0)\n",
            "Requirement already satisfied: attrs>=17.3.0 in /Users/cesargarciavelazquez/opt/anaconda3/lib/python3.9/site-packages (from aiohttp->python-binance) (21.4.0)\n",
            "Requirement already satisfied: aiosignal>=1.1.2 in /Users/cesargarciavelazquez/opt/anaconda3/lib/python3.9/site-packages (from aiohttp->python-binance) (1.2.0)\n",
            "Requirement already satisfied: multidict<7.0,>=4.5 in /Users/cesargarciavelazquez/opt/anaconda3/lib/python3.9/site-packages (from aiohttp->python-binance) (5.2.0)\n",
            "Requirement already satisfied: async-timeout<5.0,>=4.0.0a3 in /Users/cesargarciavelazquez/opt/anaconda3/lib/python3.9/site-packages (from aiohttp->python-binance) (4.0.1)\n",
            "Requirement already satisfied: charset-normalizer<3.0,>=2.0 in /Users/cesargarciavelazquez/opt/anaconda3/lib/python3.9/site-packages (from aiohttp->python-binance) (2.0.4)\n",
            "Requirement already satisfied: yarl<2.0,>=1.0 in /Users/cesargarciavelazquez/opt/anaconda3/lib/python3.9/site-packages (from aiohttp->python-binance) (1.6.3)\n",
            "Requirement already satisfied: frozenlist>=1.1.1 in /Users/cesargarciavelazquez/opt/anaconda3/lib/python3.9/site-packages (from aiohttp->python-binance) (1.2.0)\n",
            "Requirement already satisfied: typing-extensions>=3.6.5 in /Users/cesargarciavelazquez/opt/anaconda3/lib/python3.9/site-packages (from async-timeout<5.0,>=4.0.0a3->aiohttp->python-binance) (4.1.1)\n",
            "Requirement already satisfied: idna>=2.0 in /Users/cesargarciavelazquez/opt/anaconda3/lib/python3.9/site-packages (from yarl<2.0,>=1.0->aiohttp->python-binance) (3.3)\n",
            "Requirement already satisfied: python-dateutil in /Users/cesargarciavelazquez/opt/anaconda3/lib/python3.9/site-packages (from dateparser->python-binance) (2.8.2)\n",
            "Requirement already satisfied: tzlocal in /Users/cesargarciavelazquez/opt/anaconda3/lib/python3.9/site-packages (from dateparser->python-binance) (4.2)\n",
            "Requirement already satisfied: pytz in /Users/cesargarciavelazquez/opt/anaconda3/lib/python3.9/site-packages (from dateparser->python-binance) (2021.3)\n",
            "Requirement already satisfied: regex!=2019.02.19,!=2021.8.27,<2022.3.15 in /Users/cesargarciavelazquez/opt/anaconda3/lib/python3.9/site-packages (from dateparser->python-binance) (2022.3.2)\n",
            "Requirement already satisfied: certifi>=2017.4.17 in /Users/cesargarciavelazquez/opt/anaconda3/lib/python3.9/site-packages (from requests->python-binance) (2021.10.8)\n",
            "Requirement already satisfied: urllib3<1.27,>=1.21.1 in /Users/cesargarciavelazquez/opt/anaconda3/lib/python3.9/site-packages (from requests->python-binance) (1.26.9)\n",
            "Requirement already satisfied: pytz-deprecation-shim in /Users/cesargarciavelazquez/opt/anaconda3/lib/python3.9/site-packages (from tzlocal->dateparser->python-binance) (0.1.0.post0)\n",
            "Requirement already satisfied: tzdata in /Users/cesargarciavelazquez/opt/anaconda3/lib/python3.9/site-packages (from pytz-deprecation-shim->tzlocal->dateparser->python-binance) (2022.5)\n",
            "Note: you may need to restart the kernel to use updated packages.\n"
          ]
        }
      ],
      "source": [
        "pip install python-binance"
      ]
    },
    {
      "cell_type": "code",
      "execution_count": null,
      "metadata": {
        "id": "ltnpVsTdN8g5"
      },
      "outputs": [],
      "source": [
        "import os\n",
        "\n",
        "# needed for the binance API and websockets\n",
        "# necesaria la API de binance y websockets\n",
        "from binance.client import Client\n",
        "\n",
        "# used for dates\n",
        "# usar las fechas\n",
        "from datetime import datetime, timedelta\n",
        "import time\n",
        "\n",
        "# used to repeatedly execute the code\n",
        "# utiliza para ejecutar repetidamente el código\n",
        "from itertools import count\n",
        "\n",
        "# used to store trades and sell assets\n",
        "import json"
      ]
    },
    {
      "cell_type": "code",
      "execution_count": null,
      "metadata": {
        "id": "JDyOUNjEN8hJ"
      },
      "outputs": [],
      "source": [
        "# Define your API keys below in order for the toggle to work\n",
        "TESTNET = True\n",
        "\n",
        "# Get binance key and secret for TEST and MAINNET\n",
        "# The keys below are pulled from environment variables using os.getenv\n",
        "\n",
        "# Obtenga la clave binance y el secreto para TEST y MAINNET\n",
        "# Las claves a continuación se extraen de las variables de entorno usando os.getenv\n",
        "API_KEY = \"3WSepunyDW5y8KWSsuKL0QJXQFtCDd1afchkNMICBwzCRV86r0Ai5uMeGEkNKM8R\"\n",
        "API_SECRET = \"sXyZV3pKoz3JTiJaGLYOtP38ZEDEyUewlbKatoXs7P70tndnBvUKd73omGAsCOlO\"\n",
        "\n",
        "# Authenticate with the client\n",
        "# Autenticar con el cliente\n",
        "if TESTNET:\n",
        "    client = Client(API_KEY, API_SECRET)\n",
        "\n",
        "    # The API URL needs to be manually changed in the library to work on the TESTNET\n",
        "    # The API URL needs to be manually changed in the library to work on the TESTNE\n",
        "    client.API_URL = 'https://testnet.binance.vision/api'\n",
        "\n",
        "else:\n",
        "    client = Client(API_KEY, API_SECRET)\n",
        "\n"
      ]
    },
    {
      "cell_type": "code",
      "execution_count": null,
      "metadata": {
        "id": "KrvcWQhjN8hL"
      },
      "outputs": [],
      "source": [
        "# select what to pair the coins to and pull all coins paied with PAIR_WITH\n",
        "#PAIR_WITH define la moneda (o moneda fiduciaria) con la que se empareja cada criptografía. \n",
        "# Solo he probado este USDT, ya que la mayoría de las monedas están emparejadas con él.\n",
        "PAIR_WITH = 'USDT'\n",
        "\n",
        "# Define the size of each trade, by default in USDT\n",
        "#QUANTITY representa el tamaño de su operación, por defecto en USDT. \n",
        "#Tenga mucho cuidado con la CANTIDAD si cambia PAIR_WITH a BNB, por ejemplo.\n",
        "QUANTITY = 100\n",
        "\n",
        "# List of pairs to exlcude\n",
        "# by default we're excluding the most popular fiat pairs\n",
        "# and some margin keywords, as we're only working on the SPOT account\n",
        "\n",
        "#FIATS es una lista de monedas fiduciarias y símbolos de margen que estoy excluyendo. \n",
        "# Todo lo que se agregue aquí se excluirá de la salida de monedas y no se intercambiará.\n",
        "FIATS = ['EURUSDT', 'GBPUSDT', 'JPYUSDT', 'USDUSDT', 'DOWN', 'UP']\n",
        "\n",
        "# the amount of time in MINUTES to calculate the differnce from the current price\n",
        "\n",
        "#TIME_DIFFERENCE por defecto estamos comprobando la diferencia de precio de cada moneda en Binance en los últimos 5 minutos, puedes cambiar este valor para obtener diferentes resultados. \n",
        "#Esto también determina la frecuencia con la que se ejecuta cada iteración de código.\n",
        "TIME_DIFFERENCE = 5\n",
        "\n",
        "# the difference in % between the first and second checks for the price, by default set at 10 minutes apart.\n",
        "CHANGE_IN_PRICE = 3\n",
        "#CHANGE_IN_PRICE el umbral en el que el bot decidirá comprar una moneda. Por defecto, si una moneda se ha movido más del 3% en los últimos 5 minutos, consideramos que es una fuerte señal de compra.\n",
        "\n",
        "# define in % when to sell a coin that's not making a profit\n",
        "STOP_LOSS = 3\n",
        "# define in % when to take profit on a profitable coin\n",
        "TAKE_PROFIT = 6\n",
        "#STOP LOSS y TAKE PROFIT definen en % cómo vender las monedas que compró el algoritmo Binance."
      ]
    },
    {
      "cell_type": "code",
      "execution_count": null,
      "metadata": {
        "id": "CiQi61h4N8hO"
      },
      "outputs": [],
      "source": [
        "# coins that bought by the bot since its start\n",
        "coins_bought = {}\n",
        "# monedas que compró el bot desde su inicio\n",
        "\n",
        "# path to the saved coins_bought file\n",
        "# ruta al archivo guardado de monedas_comprado \n",
        "coins_bought_file_path = 'coins_bought.json'\n",
        "\n",
        "# use separate files for testnet and live\n",
        "# usar archivos separados para testnet y live\n",
        "if TESTNET:\n",
        "    coins_bought_file_path = 'testnet_' + coins_bought_file_path\n",
        "\n",
        "# if saved coins_bought json file exists then load it\n",
        "# si existe el archivo json de monedas_comprado guardado, entonces cárguelo\n",
        "if os.path.isfile(coins_bought_file_path):\n",
        "    with open(coins_bought_file_path) as file:\n",
        "        coins_bought = json.load(file)"
      ]
    },
    {
      "cell_type": "code",
      "execution_count": null,
      "metadata": {
        "id": "gJ_ieQLZN8hP"
      },
      "outputs": [],
      "source": [
        "#The get_price() function will the return the price of each coin that meets our criteria.\n",
        "#La función get_price() devolverá el precio de cada moneda que cumpla con nuestros criterios.\n",
        "def get_price():\n",
        "    '''Return the current price for all coins on binance'''\n",
        "\n",
        "    initial_price = {}\n",
        "    prices = client.get_all_tickers()\n",
        "\n",
        "    for coin in prices:\n",
        "\n",
        "        # only Return USDT pairs and exlcude margin symbols like BTCDOWNUSDT\n",
        "        if PAIR_WITH in coin['symbol'] and all(item not in coin['symbol'] for item in FIATS):\n",
        "            initial_price[coin['symbol']] = { 'price': coin['price'], 'time': datetime.now()}\n",
        "\n",
        "    return initial_price"
      ]
    },
    {
      "cell_type": "code",
      "execution_count": null,
      "metadata": {
        "id": "7lFr7couN8hR"
      },
      "outputs": [],
      "source": [
        "#TIME_DIFFERENCE variable and will return any coin that has moved by more than the CHANGE_IN_PRICE – by default 3%.\n",
        "#TIME_DIFFERENCE variable y devolverá cualquier moneda que se haya movido más que CHANGE_IN_PRICE, por defecto 3%.\n",
        "def wait_for_price():\n",
        "    '''calls the initial price and ensures the correct amount of time has passed\n",
        "    before reading the current price again'''\n",
        "\n",
        "    volatile_coins = {}\n",
        "    initial_price = get_price()\n",
        "\n",
        "    while initial_price['BNBUSDT']['time'] > datetime.now() - timedelta(minutes=TIME_DIFFERENCE):\n",
        "        print(f'not enough time has passed yet...')\n",
        "\n",
        "        # let's wait here until the time passess...\n",
        "        time.sleep(60*TIME_DIFFERENCE)\n",
        "\n",
        "    else:\n",
        "        last_price = get_price()\n",
        "\n",
        "        # calculate the difference between the first and last price reads\n",
        "        # calcular la diferencia entre la primera y la última lectura de precio\n",
        "        for coin in initial_price:\n",
        "            threshold_check = (float(initial_price[coin]['price']) - float(last_price[coin]['price'])) / float(last_price[coin]['price']) * 100\n",
        "\n",
        "            # each coin with higher gains than our CHANGE_IN_PRICE is added to the volatile_coins dict\n",
        "            # cada moneda con mayores ganancias que CHANGE_IN_PRICE se agrega al dict volatile_coins\n",
        "            if threshold_check > CHANGE_IN_PRICE:\n",
        "                volatile_coins[coin] = threshold_check\n",
        "                volatile_coins[coin] = round(volatile_coins[coin], 3)\n",
        "\n",
        "                print(f'{coin} has gained {volatile_coins[coin]}% in the last {TIME_DIFFERENCE} minutes, calculating volume in {PAIR_WITH}')\n",
        "\n",
        "        if len(volatile_coins) < 1:\n",
        "                print(f'No coins moved more than {CHANGE_IN_PRICE}% in the last {TIME_DIFFERENCE} minute(s)')\n",
        "\n",
        "        return volatile_coins, len(volatile_coins), last_price"
      ]
    },
    {
      "cell_type": "code",
      "execution_count": null,
      "metadata": {
        "id": "YjLMcdmcN8hT"
      },
      "outputs": [],
      "source": [
        "#The next step is to convert our QUANTITY of 100USDT (default) into the respective quantity for each coin that we’re about to buy. \n",
        "#El siguiente paso es convertir nuestra CANTIDAD de 100USDT (predeterminada) en la cantidad respectiva de cada moneda que estamos a punto de comprar.\n",
        "def convert_volume():\n",
        "    '''Converts the volume given in QUANTITY from USDT to the each coin's volume'''\n",
        "#Because Binance is a bit particular with the format of the volume, our trading bot needs to know the step size for each coin.\n",
        "#Debido a que Binance es un poco particular con el formato del volumen, nuestro robot comercial necesita saber el tamaño de paso para cada moneda.\n",
        "\n",
        "    volatile_coins, number_of_coins, last_price = wait_for_price()\n",
        "    lot_size = {}\n",
        "    volume = {}\n",
        "\n",
        "    for coin in volatile_coins:\n",
        "\n",
        "        # Find the correct step size for each coin -------------->Encuentre el tamaño de paso correcto para cada moneda\n",
        "        # max accuracy for BTC for example is 6 decimal points--->la precisión máxima para BTC, por ejemplo, es de 6 puntos decimales\n",
        "        # while XRP is only 1 ----------------------------------->mientras que XRP es solo 1\n",
        "        try:\n",
        "            info = client.get_symbol_info(coin)\n",
        "            step_size = info['filters'][2]['stepSize']\n",
        "            lot_size[coin] = step_size.index('1') - 1\n",
        "\n",
        "            if lot_size[coin] < 0:\n",
        "                lot_size[coin] = 0\n",
        "\n",
        "        except:\n",
        "            pass\n",
        "\n",
        "        # calculate the volume in coin from QUANTITY in USDT (default)\n",
        "        # calcular el volumen en moneda de CANTIDAD en USDT (predeterminado)\n",
        "        volume[coin] = float(QUANTITY / float(last_price[coin]['price']))\n",
        "\n",
        "        # define the volume with the correct step size\n",
        "        # definir el volumen con el tamaño de paso correcto\n",
        "        if coin not in lot_size:\n",
        "            volume[coin] = float('{:.1f}'.format(volume[coin]))\n",
        "\n",
        "        else:\n",
        "            volume[coin] = float('{:.{}f}'.format(volume[coin], lot_size[coin]))\n",
        "\n",
        "    return volume, last_price"
      ]
    },
    {
      "cell_type": "code",
      "execution_count": null,
      "metadata": {
        "id": "SmdfWChLN8hV"
      },
      "outputs": [],
      "source": [
        "def trade():\n",
        "    '''Place Buy market orders for each volatile coin found'''\n",
        "\n",
        "    volume, last_price = convert_volume()\n",
        "    orders = {}\n",
        "\n",
        "    for coin in volume:\n",
        "\n",
        "        # only buy if the there are no active trades on the coin\n",
        "        # solo compra si no hay intercambios activos en la moneda\n",
        "        if coin not in coins_bought or coins_bought[coin] == None:\n",
        "            print(f' preparing to buy {volume[coin]} {coin}')\n",
        "\n",
        "            if TESTNET :\n",
        "                # create test order before pushing an actual order\n",
        "                # crear un pedido de prueba antes de enviar un pedido real\n",
        "                test_order = client.create_test_order(symbol=coin, side='BUY', type='MARKET', quantity=volume[coin])\n",
        "\n",
        "            # try to create a real order if the test orders did not raise an exception\n",
        "            # intenta crear un pedido real si los pedidos de prueba no generaron una excepción\n",
        "            try:\n",
        "                buy_limit = client.create_order(\n",
        "                    symbol=coin,\n",
        "                    side='BUY',\n",
        "                    type='MARKET',\n",
        "                    quantity=volume[coin]\n",
        "                )\n",
        "\n",
        "            # error handling here in case position cannot be placed\n",
        "            except Exception as e:\n",
        "                print(e)\n",
        "\n",
        "            # run the else block if the position has been placed and return order info\n",
        "            # ejecutar el bloque else si se ha colocado la posición y devolver la información del pedido\n",
        "            else:\n",
        "                orders[coin] = client.get_all_orders(symbol=coin, limit=1)\n",
        "        else:\n",
        "            print(f'Signal detected, but there is already an active trade on {coin}')\n",
        "\n",
        "    return orders, last_price, volume"
      ]
    },
    {
      "cell_type": "code",
      "execution_count": null,
      "metadata": {
        "id": "UKqYkNA3N8hZ"
      },
      "outputs": [],
      "source": [
        "#The next step is to update our portfolio by saving the details of each trade into the json file that we’re checking for at the beginning of each iteration.\n",
        "#El siguiente paso es actualizar nuestra cartera guardando los detalles de cada operación en el archivo json que buscamos al comienzo de cada iteración.\n",
        "def update_porfolio(orders, last_price, volume):\n",
        "    '''add every coin bought to our portfolio for tracking/selling later'''\n",
        "\n",
        "    for coin in orders:\n",
        "        coins_bought[coin] = {\n",
        "            'symbol': orders[coin][0]['symbol'],\n",
        "            'orderid': orders[coin][0]['orderId'],\n",
        "            'timestamp': orders[coin][0]['time'],\n",
        "            'bought_at': last_price[coin]['price'],\n",
        "            'volume': volume[coin]\n",
        "            }\n",
        "\n",
        "        # save the coins in a json file in the same directory\n",
        "        # guardar las monedas en un archivo json en el mismo directorio\n",
        "        with open(coins_bought_file_path, 'w') as file:\n",
        "            json.dump(coins_bought, file, indent=4)\n"
      ]
    },
    {
      "cell_type": "code",
      "execution_count": null,
      "metadata": {
        "id": "5j695WHqN8hb",
        "outputId": "600aa9b5-b0ff-487a-aa55-d9eb29f92355"
      },
      "outputs": [
        {
          "name": "stdout",
          "output_type": "stream",
          "text": [
            "Press Ctrl-Q to stop the script\n",
            "not enough time has passed yet...\n",
            "No coins moved more than 3% in the last 5 minute(s)\n",
            "not enough time has passed yet...\n",
            "No coins moved more than 3% in the last 5 minute(s)\n",
            "not enough time has passed yet...\n",
            "No coins moved more than 3% in the last 5 minute(s)\n",
            "not enough time has passed yet...\n"
          ]
        }
      ],
      "source": [
        "#checks if any of the coins we own in our bot portfolio should be sold due to SL or TP being reached.\n",
        "#comprueba si alguna de las monedas que poseemos en nuestra cartera de bots debe venderse debido a que se alcanzó SL o TP.\n",
        "def sell_coins():\n",
        "    '''sell coins that have reached the STOP LOSS or TAKE PROFIT thershold'''\n",
        "\n",
        "    last_price = get_price()\n",
        "\n",
        "    for coin in coins_bought:\n",
        "        # define stop loss and take profit\n",
        "        TP = float(coins_bought[coin]['bought_at']) + (float(coins_bought[coin]['bought_at']) * TAKE_PROFIT) / 100\n",
        "        SL = float(coins_bought[coin]['bought_at']) - (float(coins_bought[coin]['bought_at']) * STOP_LOSS) / 100\n",
        "\n",
        "        # check that the price is above the take profit or below the stop loss\n",
        "        # check that the price is above the take profit or below the stop loss\n",
        "        if float(last_price[coin]['price']) > TP or float(last_price[coin]['price']) < SL:\n",
        "            print(f\"TP or SL reached, selling {coins_bought[coin]['volume']} {coin}...\")\n",
        "\n",
        "            if TESTNET :\n",
        "                # create test order before pushing an actual order\n",
        "                # crear un pedido de prueba antes de enviar un pedido real\n",
        "                test_order = client.create_test_order(symbol=coin, side='SELL', type='MARKET', quantity=coins_bought[coin]['volume'])\n",
        "\n",
        "            # try to create a real order if the test orders did not raise an exception\n",
        "            # intentar crear un pedido real si los pedidos de prueba no generaron una excepción\n",
        "            try:\n",
        "                sell_coins_limit = client.create_order(\n",
        "                    symbol=coin,\n",
        "                    side='SELL',\n",
        "                    type='MARKET',\n",
        "                    quantity=coins_bought[coin]['volume']\n",
        "                )\n",
        "\n",
        "            # error handling here in case position cannot be placed\n",
        "            except Exception as e:\n",
        "                print(e)\n",
        "\n",
        "            # run the else block if the position has been placed and update the coins bought json file\n",
        "            # ejecutar el bloque else si se ha colocado la posición y actualizar el archivo json de monedas compradas\n",
        "            else:\n",
        "                coins_bought[coin] = None\n",
        "                with open(coins_bought_file_path, 'w') as file:\n",
        "                    json.dump(coins_bought, file, indent=4)\n",
        "        else:\n",
        "            print(f'TP or SL not yet reached, not selling {coin} for now...')\n",
        "\n",
        "print('Press Ctrl-Q to stop the script')\n",
        "for i in count():\n",
        "        orders, last_price, volume = trade()\n",
        "        update_porfolio(orders, last_price, volume)\n",
        "        sell_coins()"
      ]
    }
  ],
  "metadata": {
    "kernelspec": {
      "display_name": "Python 3.9.12 ('base')",
      "language": "python",
      "name": "python3"
    },
    "language_info": {
      "codemirror_mode": {
        "name": "ipython",
        "version": 3
      },
      "file_extension": ".py",
      "mimetype": "text/x-python",
      "name": "python",
      "nbconvert_exporter": "python",
      "pygments_lexer": "ipython3",
      "version": "3.9.12"
    },
    "orig_nbformat": 4,
    "vscode": {
      "interpreter": {
        "hash": "ea069fb1830509f5d20714f52b15f50ca74c4ddd9fb1e472debdf66f5c2d7109"
      }
    },
    "colab": {
      "provenance": [],
      "collapsed_sections": [],
      "include_colab_link": true
    }
  },
  "nbformat": 4,
  "nbformat_minor": 0
}